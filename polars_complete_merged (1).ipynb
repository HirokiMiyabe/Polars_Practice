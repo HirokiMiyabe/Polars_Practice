{
  "cells": [
    {
      "cell_type": "markdown",
      "id": "e3616c42",
      "metadata": {
        "id": "e3616c42"
      },
      "source": [
        "# Polars入門：Irisデータセットを使った例題集\n",
        "\n",
        "このノートブックでは、Polarsライブラリを用いた基本的なデータ操作方法を、Irisデータセットを題材に学んでいきます。\n",
        "\n",
        "各例題には以下の情報を含みます：\n",
        "\n",
        "- **Polarsでの実装**\n",
        "- **各メソッドの主要引数の説明**\n",
        "- **Pandas・dplyrでの対応コード（対応がある場合）**\n",
        "\n"
      ]
    },
    {
      "cell_type": "markdown",
      "id": "b6f8f4bd",
      "metadata": {
        "id": "b6f8f4bd"
      },
      "source": [
        "## 例題1: データの読み込み（CSV）"
      ]
    },
    {
      "cell_type": "code",
      "execution_count": 1,
      "id": "83225066",
      "metadata": {
        "colab": {
          "base_uri": "https://localhost:8080/",
          "height": 255
        },
        "id": "83225066",
        "outputId": "9339b2b0-f2d4-4752-ac13-5a01621a1efc"
      },
      "outputs": [
        {
          "output_type": "execute_result",
          "data": {
            "text/plain": [
              "shape: (5, 5)\n",
              "┌──────────────┬─────────────┬──────────────┬─────────────┬─────────┐\n",
              "│ sepal_length ┆ sepal_width ┆ petal_length ┆ petal_width ┆ species │\n",
              "│ ---          ┆ ---         ┆ ---          ┆ ---         ┆ ---     │\n",
              "│ f64          ┆ f64         ┆ f64          ┆ f64         ┆ str     │\n",
              "╞══════════════╪═════════════╪══════════════╪═════════════╪═════════╡\n",
              "│ 5.1          ┆ 3.5         ┆ 1.4          ┆ 0.2         ┆ setosa  │\n",
              "│ 4.9          ┆ 3.0         ┆ 1.4          ┆ 0.2         ┆ setosa  │\n",
              "│ 4.7          ┆ 3.2         ┆ 1.3          ┆ 0.2         ┆ setosa  │\n",
              "│ 4.6          ┆ 3.1         ┆ 1.5          ┆ 0.2         ┆ setosa  │\n",
              "│ 5.0          ┆ 3.6         ┆ 1.4          ┆ 0.2         ┆ setosa  │\n",
              "└──────────────┴─────────────┴──────────────┴─────────────┴─────────┘"
            ],
            "text/html": [
              "<div><style>\n",
              ".dataframe > thead > tr,\n",
              ".dataframe > tbody > tr {\n",
              "  text-align: right;\n",
              "  white-space: pre-wrap;\n",
              "}\n",
              "</style>\n",
              "<small>shape: (5, 5)</small><table border=\"1\" class=\"dataframe\"><thead><tr><th>sepal_length</th><th>sepal_width</th><th>petal_length</th><th>petal_width</th><th>species</th></tr><tr><td>f64</td><td>f64</td><td>f64</td><td>f64</td><td>str</td></tr></thead><tbody><tr><td>5.1</td><td>3.5</td><td>1.4</td><td>0.2</td><td>&quot;setosa&quot;</td></tr><tr><td>4.9</td><td>3.0</td><td>1.4</td><td>0.2</td><td>&quot;setosa&quot;</td></tr><tr><td>4.7</td><td>3.2</td><td>1.3</td><td>0.2</td><td>&quot;setosa&quot;</td></tr><tr><td>4.6</td><td>3.1</td><td>1.5</td><td>0.2</td><td>&quot;setosa&quot;</td></tr><tr><td>5.0</td><td>3.6</td><td>1.4</td><td>0.2</td><td>&quot;setosa&quot;</td></tr></tbody></table></div>"
            ]
          },
          "metadata": {},
          "execution_count": 1
        }
      ],
      "source": [
        "import polars as pl\n",
        "\n",
        "# CSVファイルの読み込み\n",
        "df = pl.read_csv(\"https://j.mp/iriscsv\")\n",
        "df.head()"
      ]
    },
    {
      "cell_type": "markdown",
      "id": "e2e12250",
      "metadata": {
        "id": "e2e12250"
      },
      "source": [
        "- `pl.read_csv()` の主な引数：\n",
        "  - `filepath`: 読み込み元のファイルパスまたはURL\n",
        "  - `separator`: 区切り文字（デフォルトはカンマ）\n",
        "  - `has_header`: ヘッダーの有無\n",
        "  - `new_columns`: 新たな列名のリスト\n",
        "\n",
        "- Pandas版:\n",
        "```python\n",
        "import pandas as pd\n",
        "df = pd.read_csv(\"https://j.mp/iriscsv\")\n",
        "```\n",
        "\n",
        "- dplyr対応（R）:\n",
        "```r\n",
        "library(readr)\n",
        "df <- read_csv(\"https://j.mp/iriscsv\")\n",
        "```\n"
      ]
    },
    {
      "cell_type": "markdown",
      "id": "ee2ae9b2",
      "metadata": {
        "id": "ee2ae9b2"
      },
      "source": [
        "## 例題2: 特定列の抽出"
      ]
    },
    {
      "cell_type": "code",
      "execution_count": 2,
      "id": "941d81c4",
      "metadata": {
        "colab": {
          "base_uri": "https://localhost:8080/",
          "height": 443
        },
        "id": "941d81c4",
        "outputId": "3980e0e2-0a0a-42f6-b4c1-f1e373267725"
      },
      "outputs": [
        {
          "output_type": "execute_result",
          "data": {
            "text/plain": [
              "shape: (150, 2)\n",
              "┌──────────────┬───────────┐\n",
              "│ sepal_length ┆ species   │\n",
              "│ ---          ┆ ---       │\n",
              "│ f64          ┆ str       │\n",
              "╞══════════════╪═══════════╡\n",
              "│ 5.1          ┆ setosa    │\n",
              "│ 4.9          ┆ setosa    │\n",
              "│ 4.7          ┆ setosa    │\n",
              "│ 4.6          ┆ setosa    │\n",
              "│ 5.0          ┆ setosa    │\n",
              "│ …            ┆ …         │\n",
              "│ 6.7          ┆ virginica │\n",
              "│ 6.3          ┆ virginica │\n",
              "│ 6.5          ┆ virginica │\n",
              "│ 6.2          ┆ virginica │\n",
              "│ 5.9          ┆ virginica │\n",
              "└──────────────┴───────────┘"
            ],
            "text/html": [
              "<div><style>\n",
              ".dataframe > thead > tr,\n",
              ".dataframe > tbody > tr {\n",
              "  text-align: right;\n",
              "  white-space: pre-wrap;\n",
              "}\n",
              "</style>\n",
              "<small>shape: (150, 2)</small><table border=\"1\" class=\"dataframe\"><thead><tr><th>sepal_length</th><th>species</th></tr><tr><td>f64</td><td>str</td></tr></thead><tbody><tr><td>5.1</td><td>&quot;setosa&quot;</td></tr><tr><td>4.9</td><td>&quot;setosa&quot;</td></tr><tr><td>4.7</td><td>&quot;setosa&quot;</td></tr><tr><td>4.6</td><td>&quot;setosa&quot;</td></tr><tr><td>5.0</td><td>&quot;setosa&quot;</td></tr><tr><td>&hellip;</td><td>&hellip;</td></tr><tr><td>6.7</td><td>&quot;virginica&quot;</td></tr><tr><td>6.3</td><td>&quot;virginica&quot;</td></tr><tr><td>6.5</td><td>&quot;virginica&quot;</td></tr><tr><td>6.2</td><td>&quot;virginica&quot;</td></tr><tr><td>5.9</td><td>&quot;virginica&quot;</td></tr></tbody></table></div>"
            ]
          },
          "metadata": {},
          "execution_count": 2
        }
      ],
      "source": [
        "df.select([\"sepal_length\", \"species\"])"
      ]
    },
    {
      "cell_type": "markdown",
      "id": "1226ac04",
      "metadata": {
        "id": "1226ac04"
      },
      "source": [
        "- `.select()` は新しいDataFrameを返す。\n",
        "- `pl.col()` を組み合わせて正規表現も使える。\n",
        "\n",
        "- Pandas版:\n",
        "```python\n",
        "df[[\"sepal_length\", \"species\"]]\n",
        "```\n",
        "\n",
        "- dplyr対応（R）:\n",
        "```r\n",
        "df %>% select(sepal_length, species)\n",
        "```\n"
      ]
    },
    {
      "cell_type": "markdown",
      "id": "e406525d",
      "metadata": {
        "id": "e406525d"
      },
      "source": [
        "## 例題3: 条件によるフィルタリング"
      ]
    },
    {
      "cell_type": "code",
      "execution_count": 3,
      "id": "18122762",
      "metadata": {
        "colab": {
          "base_uri": "https://localhost:8080/",
          "height": 443
        },
        "id": "18122762",
        "outputId": "c496de74-e30b-43ca-d268-7333261a7fec"
      },
      "outputs": [
        {
          "output_type": "execute_result",
          "data": {
            "text/plain": [
              "shape: (118, 5)\n",
              "┌──────────────┬─────────────┬──────────────┬─────────────┬───────────┐\n",
              "│ sepal_length ┆ sepal_width ┆ petal_length ┆ petal_width ┆ species   │\n",
              "│ ---          ┆ ---         ┆ ---          ┆ ---         ┆ ---       │\n",
              "│ f64          ┆ f64         ┆ f64          ┆ f64         ┆ str       │\n",
              "╞══════════════╪═════════════╪══════════════╪═════════════╪═══════════╡\n",
              "│ 5.1          ┆ 3.5         ┆ 1.4          ┆ 0.2         ┆ setosa    │\n",
              "│ 5.4          ┆ 3.9         ┆ 1.7          ┆ 0.4         ┆ setosa    │\n",
              "│ 5.4          ┆ 3.7         ┆ 1.5          ┆ 0.2         ┆ setosa    │\n",
              "│ 5.8          ┆ 4.0         ┆ 1.2          ┆ 0.2         ┆ setosa    │\n",
              "│ 5.7          ┆ 4.4         ┆ 1.5          ┆ 0.4         ┆ setosa    │\n",
              "│ …            ┆ …           ┆ …            ┆ …           ┆ …         │\n",
              "│ 6.7          ┆ 3.0         ┆ 5.2          ┆ 2.3         ┆ virginica │\n",
              "│ 6.3          ┆ 2.5         ┆ 5.0          ┆ 1.9         ┆ virginica │\n",
              "│ 6.5          ┆ 3.0         ┆ 5.2          ┆ 2.0         ┆ virginica │\n",
              "│ 6.2          ┆ 3.4         ┆ 5.4          ┆ 2.3         ┆ virginica │\n",
              "│ 5.9          ┆ 3.0         ┆ 5.1          ┆ 1.8         ┆ virginica │\n",
              "└──────────────┴─────────────┴──────────────┴─────────────┴───────────┘"
            ],
            "text/html": [
              "<div><style>\n",
              ".dataframe > thead > tr,\n",
              ".dataframe > tbody > tr {\n",
              "  text-align: right;\n",
              "  white-space: pre-wrap;\n",
              "}\n",
              "</style>\n",
              "<small>shape: (118, 5)</small><table border=\"1\" class=\"dataframe\"><thead><tr><th>sepal_length</th><th>sepal_width</th><th>petal_length</th><th>petal_width</th><th>species</th></tr><tr><td>f64</td><td>f64</td><td>f64</td><td>f64</td><td>str</td></tr></thead><tbody><tr><td>5.1</td><td>3.5</td><td>1.4</td><td>0.2</td><td>&quot;setosa&quot;</td></tr><tr><td>5.4</td><td>3.9</td><td>1.7</td><td>0.4</td><td>&quot;setosa&quot;</td></tr><tr><td>5.4</td><td>3.7</td><td>1.5</td><td>0.2</td><td>&quot;setosa&quot;</td></tr><tr><td>5.8</td><td>4.0</td><td>1.2</td><td>0.2</td><td>&quot;setosa&quot;</td></tr><tr><td>5.7</td><td>4.4</td><td>1.5</td><td>0.4</td><td>&quot;setosa&quot;</td></tr><tr><td>&hellip;</td><td>&hellip;</td><td>&hellip;</td><td>&hellip;</td><td>&hellip;</td></tr><tr><td>6.7</td><td>3.0</td><td>5.2</td><td>2.3</td><td>&quot;virginica&quot;</td></tr><tr><td>6.3</td><td>2.5</td><td>5.0</td><td>1.9</td><td>&quot;virginica&quot;</td></tr><tr><td>6.5</td><td>3.0</td><td>5.2</td><td>2.0</td><td>&quot;virginica&quot;</td></tr><tr><td>6.2</td><td>3.4</td><td>5.4</td><td>2.3</td><td>&quot;virginica&quot;</td></tr><tr><td>5.9</td><td>3.0</td><td>5.1</td><td>1.8</td><td>&quot;virginica&quot;</td></tr></tbody></table></div>"
            ]
          },
          "metadata": {},
          "execution_count": 3
        }
      ],
      "source": [
        "df.filter(pl.col(\"sepal_length\") > 5.0)"
      ]
    },
    {
      "cell_type": "markdown",
      "id": "ac9ecb84",
      "metadata": {
        "id": "ac9ecb84"
      },
      "source": [
        "- `.filter()` の中では `pl.col(\"列名\")` を使う。\n",
        "- 複数条件の組み合わせには `&`（and）や `|`（or）を使用。\n",
        "\n",
        "- Pandas版:\n",
        "```python\n",
        "df[df[\"sepal_length\"] > 5.0]\n",
        "```\n",
        "\n",
        "- dplyr対応（R）:\n",
        "```r\n",
        "df %>% filter(sepal_length > 5.0)\n",
        "```\n"
      ]
    },
    {
      "cell_type": "markdown",
      "id": "0d400e11",
      "metadata": {
        "id": "0d400e11"
      },
      "source": [
        "## 例題4: 新しい列の追加"
      ]
    },
    {
      "cell_type": "code",
      "execution_count": 4,
      "id": "18e06dc6",
      "metadata": {
        "colab": {
          "base_uri": "https://localhost:8080/",
          "height": 443
        },
        "id": "18e06dc6",
        "outputId": "95801c15-6bc6-48d4-9fb5-372528421512"
      },
      "outputs": [
        {
          "output_type": "execute_result",
          "data": {
            "text/plain": [
              "shape: (150, 6)\n",
              "┌──────────────┬─────────────┬──────────────┬─────────────┬───────────┬─────────────────────┐\n",
              "│ sepal_length ┆ sepal_width ┆ petal_length ┆ petal_width ┆ species   ┆ sepal_width_doubled │\n",
              "│ ---          ┆ ---         ┆ ---          ┆ ---         ┆ ---       ┆ ---                 │\n",
              "│ f64          ┆ f64         ┆ f64          ┆ f64         ┆ str       ┆ f64                 │\n",
              "╞══════════════╪═════════════╪══════════════╪═════════════╪═══════════╪═════════════════════╡\n",
              "│ 5.1          ┆ 3.5         ┆ 1.4          ┆ 0.2         ┆ setosa    ┆ 7.0                 │\n",
              "│ 4.9          ┆ 3.0         ┆ 1.4          ┆ 0.2         ┆ setosa    ┆ 6.0                 │\n",
              "│ 4.7          ┆ 3.2         ┆ 1.3          ┆ 0.2         ┆ setosa    ┆ 6.4                 │\n",
              "│ 4.6          ┆ 3.1         ┆ 1.5          ┆ 0.2         ┆ setosa    ┆ 6.2                 │\n",
              "│ 5.0          ┆ 3.6         ┆ 1.4          ┆ 0.2         ┆ setosa    ┆ 7.2                 │\n",
              "│ …            ┆ …           ┆ …            ┆ …           ┆ …         ┆ …                   │\n",
              "│ 6.7          ┆ 3.0         ┆ 5.2          ┆ 2.3         ┆ virginica ┆ 6.0                 │\n",
              "│ 6.3          ┆ 2.5         ┆ 5.0          ┆ 1.9         ┆ virginica ┆ 5.0                 │\n",
              "│ 6.5          ┆ 3.0         ┆ 5.2          ┆ 2.0         ┆ virginica ┆ 6.0                 │\n",
              "│ 6.2          ┆ 3.4         ┆ 5.4          ┆ 2.3         ┆ virginica ┆ 6.8                 │\n",
              "│ 5.9          ┆ 3.0         ┆ 5.1          ┆ 1.8         ┆ virginica ┆ 6.0                 │\n",
              "└──────────────┴─────────────┴──────────────┴─────────────┴───────────┴─────────────────────┘"
            ],
            "text/html": [
              "<div><style>\n",
              ".dataframe > thead > tr,\n",
              ".dataframe > tbody > tr {\n",
              "  text-align: right;\n",
              "  white-space: pre-wrap;\n",
              "}\n",
              "</style>\n",
              "<small>shape: (150, 6)</small><table border=\"1\" class=\"dataframe\"><thead><tr><th>sepal_length</th><th>sepal_width</th><th>petal_length</th><th>petal_width</th><th>species</th><th>sepal_width_doubled</th></tr><tr><td>f64</td><td>f64</td><td>f64</td><td>f64</td><td>str</td><td>f64</td></tr></thead><tbody><tr><td>5.1</td><td>3.5</td><td>1.4</td><td>0.2</td><td>&quot;setosa&quot;</td><td>7.0</td></tr><tr><td>4.9</td><td>3.0</td><td>1.4</td><td>0.2</td><td>&quot;setosa&quot;</td><td>6.0</td></tr><tr><td>4.7</td><td>3.2</td><td>1.3</td><td>0.2</td><td>&quot;setosa&quot;</td><td>6.4</td></tr><tr><td>4.6</td><td>3.1</td><td>1.5</td><td>0.2</td><td>&quot;setosa&quot;</td><td>6.2</td></tr><tr><td>5.0</td><td>3.6</td><td>1.4</td><td>0.2</td><td>&quot;setosa&quot;</td><td>7.2</td></tr><tr><td>&hellip;</td><td>&hellip;</td><td>&hellip;</td><td>&hellip;</td><td>&hellip;</td><td>&hellip;</td></tr><tr><td>6.7</td><td>3.0</td><td>5.2</td><td>2.3</td><td>&quot;virginica&quot;</td><td>6.0</td></tr><tr><td>6.3</td><td>2.5</td><td>5.0</td><td>1.9</td><td>&quot;virginica&quot;</td><td>5.0</td></tr><tr><td>6.5</td><td>3.0</td><td>5.2</td><td>2.0</td><td>&quot;virginica&quot;</td><td>6.0</td></tr><tr><td>6.2</td><td>3.4</td><td>5.4</td><td>2.3</td><td>&quot;virginica&quot;</td><td>6.8</td></tr><tr><td>5.9</td><td>3.0</td><td>5.1</td><td>1.8</td><td>&quot;virginica&quot;</td><td>6.0</td></tr></tbody></table></div>"
            ]
          },
          "metadata": {},
          "execution_count": 4
        }
      ],
      "source": [
        "df.with_columns((pl.col(\"sepal_width\") * 2).alias(\"sepal_width_doubled\"))"
      ]
    },
    {
      "cell_type": "markdown",
      "id": "cd7c08fb",
      "metadata": {
        "id": "cd7c08fb"
      },
      "source": [
        "- `.with_columns()` は1つまたは複数の列を追加可能。\n",
        "- `.alias()` で新しい列名を指定。\n",
        "\n",
        "- Pandas版:\n",
        "```python\n",
        "df[\"sepal_width_doubled\"] = df[\"sepal_width\"] * 2\n",
        "```\n",
        "\n",
        "- dplyr対応（R）:\n",
        "```r\n",
        "df %>% mutate(sepal_width_doubled = sepal_width * 2)\n",
        "```\n"
      ]
    },
    {
      "cell_type": "markdown",
      "id": "e6b1c940",
      "metadata": {
        "id": "e6b1c940"
      },
      "source": [
        "## 例題5: グループ化と平均の計算"
      ]
    },
    {
      "cell_type": "code",
      "execution_count": 5,
      "id": "802bbbd0",
      "metadata": {
        "colab": {
          "base_uri": "https://localhost:8080/",
          "height": 192
        },
        "id": "802bbbd0",
        "outputId": "e29d1867-ec43-4e29-ec31-2c0421d732f2"
      },
      "outputs": [
        {
          "output_type": "execute_result",
          "data": {
            "text/plain": [
              "shape: (3, 2)\n",
              "┌────────────┬──────────────┐\n",
              "│ species    ┆ sepal_length │\n",
              "│ ---        ┆ ---          │\n",
              "│ str        ┆ f64          │\n",
              "╞════════════╪══════════════╡\n",
              "│ versicolor ┆ 5.936        │\n",
              "│ setosa     ┆ 5.006        │\n",
              "│ virginica  ┆ 6.588        │\n",
              "└────────────┴──────────────┘"
            ],
            "text/html": [
              "<div><style>\n",
              ".dataframe > thead > tr,\n",
              ".dataframe > tbody > tr {\n",
              "  text-align: right;\n",
              "  white-space: pre-wrap;\n",
              "}\n",
              "</style>\n",
              "<small>shape: (3, 2)</small><table border=\"1\" class=\"dataframe\"><thead><tr><th>species</th><th>sepal_length</th></tr><tr><td>str</td><td>f64</td></tr></thead><tbody><tr><td>&quot;versicolor&quot;</td><td>5.936</td></tr><tr><td>&quot;setosa&quot;</td><td>5.006</td></tr><tr><td>&quot;virginica&quot;</td><td>6.588</td></tr></tbody></table></div>"
            ]
          },
          "metadata": {},
          "execution_count": 5
        }
      ],
      "source": [
        "df.group_by(\"species\").agg(pl.col(\"sepal_length\").mean())"
      ]
    },
    {
      "cell_type": "markdown",
      "id": "5e785d11",
      "metadata": {
        "id": "5e785d11"
      },
      "source": [
        "- `.group_by()` と `.agg()` の組み合わせで集計可能。\n",
        "- `pl.col(\"列\").mean()` の他にも `.sum()`, `.max()` などが使える。\n",
        "\n",
        "- Pandas版:\n",
        "```python\n",
        "df.groupby(\"species\")[\"sepal_length\"].mean()\n",
        "```\n",
        "\n",
        "- dplyr対応（R）:\n",
        "```r\n",
        "df %>% group_by(species) %>% summarise(mean_sepal = mean(sepal_length))\n",
        "```\n"
      ]
    },
    {
      "cell_type": "markdown",
      "id": "78332979",
      "metadata": {
        "id": "78332979"
      },
      "source": [
        "## 例題6: CSVファイルへの書き出し"
      ]
    },
    {
      "cell_type": "code",
      "execution_count": 6,
      "id": "9b6f8e3d",
      "metadata": {
        "id": "9b6f8e3d"
      },
      "outputs": [],
      "source": [
        "df.write_csv(\"iris_output.csv\")"
      ]
    },
    {
      "cell_type": "markdown",
      "id": "f18368b2",
      "metadata": {
        "id": "f18368b2"
      },
      "source": [
        "- `write_csv` はローカルファイルへの保存に使える。\n",
        "- 他にも `write_parquet()`, `write_json()` などがある。\n",
        "\n",
        "- Pandas版:\n",
        "```python\n",
        "df.to_csv(\"iris_output.csv\", index=False)\n",
        "```\n",
        "\n",
        "- dplyr対応（R）:\n",
        "```r\n",
        "write.csv(df, \"iris_output.csv\", row.names = FALSE)\n",
        "```\n"
      ]
    },
    {
      "cell_type": "markdown",
      "id": "e253d8e4",
      "metadata": {
        "id": "e253d8e4"
      },
      "source": [
        "## 例題7: 列名の変更"
      ]
    },
    {
      "cell_type": "code",
      "execution_count": 7,
      "id": "07cf1bdc",
      "metadata": {
        "colab": {
          "base_uri": "https://localhost:8080/",
          "height": 443
        },
        "id": "07cf1bdc",
        "outputId": "6a79738c-132f-48ba-8dab-4ddbfddd0ecb"
      },
      "outputs": [
        {
          "output_type": "execute_result",
          "data": {
            "text/plain": [
              "shape: (150, 5)\n",
              "┌─────┬─────┬──────────────┬─────────────┬───────────┐\n",
              "│ sl  ┆ sw  ┆ petal_length ┆ petal_width ┆ species   │\n",
              "│ --- ┆ --- ┆ ---          ┆ ---         ┆ ---       │\n",
              "│ f64 ┆ f64 ┆ f64          ┆ f64         ┆ str       │\n",
              "╞═════╪═════╪══════════════╪═════════════╪═══════════╡\n",
              "│ 5.1 ┆ 3.5 ┆ 1.4          ┆ 0.2         ┆ setosa    │\n",
              "│ 4.9 ┆ 3.0 ┆ 1.4          ┆ 0.2         ┆ setosa    │\n",
              "│ 4.7 ┆ 3.2 ┆ 1.3          ┆ 0.2         ┆ setosa    │\n",
              "│ 4.6 ┆ 3.1 ┆ 1.5          ┆ 0.2         ┆ setosa    │\n",
              "│ 5.0 ┆ 3.6 ┆ 1.4          ┆ 0.2         ┆ setosa    │\n",
              "│ …   ┆ …   ┆ …            ┆ …           ┆ …         │\n",
              "│ 6.7 ┆ 3.0 ┆ 5.2          ┆ 2.3         ┆ virginica │\n",
              "│ 6.3 ┆ 2.5 ┆ 5.0          ┆ 1.9         ┆ virginica │\n",
              "│ 6.5 ┆ 3.0 ┆ 5.2          ┆ 2.0         ┆ virginica │\n",
              "│ 6.2 ┆ 3.4 ┆ 5.4          ┆ 2.3         ┆ virginica │\n",
              "│ 5.9 ┆ 3.0 ┆ 5.1          ┆ 1.8         ┆ virginica │\n",
              "└─────┴─────┴──────────────┴─────────────┴───────────┘"
            ],
            "text/html": [
              "<div><style>\n",
              ".dataframe > thead > tr,\n",
              ".dataframe > tbody > tr {\n",
              "  text-align: right;\n",
              "  white-space: pre-wrap;\n",
              "}\n",
              "</style>\n",
              "<small>shape: (150, 5)</small><table border=\"1\" class=\"dataframe\"><thead><tr><th>sl</th><th>sw</th><th>petal_length</th><th>petal_width</th><th>species</th></tr><tr><td>f64</td><td>f64</td><td>f64</td><td>f64</td><td>str</td></tr></thead><tbody><tr><td>5.1</td><td>3.5</td><td>1.4</td><td>0.2</td><td>&quot;setosa&quot;</td></tr><tr><td>4.9</td><td>3.0</td><td>1.4</td><td>0.2</td><td>&quot;setosa&quot;</td></tr><tr><td>4.7</td><td>3.2</td><td>1.3</td><td>0.2</td><td>&quot;setosa&quot;</td></tr><tr><td>4.6</td><td>3.1</td><td>1.5</td><td>0.2</td><td>&quot;setosa&quot;</td></tr><tr><td>5.0</td><td>3.6</td><td>1.4</td><td>0.2</td><td>&quot;setosa&quot;</td></tr><tr><td>&hellip;</td><td>&hellip;</td><td>&hellip;</td><td>&hellip;</td><td>&hellip;</td></tr><tr><td>6.7</td><td>3.0</td><td>5.2</td><td>2.3</td><td>&quot;virginica&quot;</td></tr><tr><td>6.3</td><td>2.5</td><td>5.0</td><td>1.9</td><td>&quot;virginica&quot;</td></tr><tr><td>6.5</td><td>3.0</td><td>5.2</td><td>2.0</td><td>&quot;virginica&quot;</td></tr><tr><td>6.2</td><td>3.4</td><td>5.4</td><td>2.3</td><td>&quot;virginica&quot;</td></tr><tr><td>5.9</td><td>3.0</td><td>5.1</td><td>1.8</td><td>&quot;virginica&quot;</td></tr></tbody></table></div>"
            ]
          },
          "metadata": {},
          "execution_count": 7
        }
      ],
      "source": [
        "df.rename({\"sepal_length\": \"sl\", \"sepal_width\": \"sw\"})"
      ]
    },
    {
      "cell_type": "markdown",
      "id": "23724437",
      "metadata": {
        "id": "23724437"
      },
      "source": [
        "- `.rename()` は辞書で複数列を一括変更可能。\n",
        "\n",
        "- Pandas版:\n",
        "```python\n",
        "df.rename(columns={\"sepal_length\": \"sl\", \"sepal_width\": \"sw\"})\n",
        "```\n",
        "\n",
        "- dplyr対応（R）:\n",
        "```r\n",
        "df %>% rename(sl = sepal_length, sw = sepal_width)\n",
        "```\n"
      ]
    },
    {
      "cell_type": "markdown",
      "id": "8e8dfaa3",
      "metadata": {
        "id": "8e8dfaa3"
      },
      "source": [
        "## 例題8: 複数処理のチェーン（select→filter→group_by→agg）"
      ]
    },
    {
      "cell_type": "code",
      "execution_count": 8,
      "id": "04b765f4",
      "metadata": {
        "colab": {
          "base_uri": "https://localhost:8080/",
          "height": 192
        },
        "id": "04b765f4",
        "outputId": "a88da3b0-d0df-4e3c-dabb-0798dd1db0a3"
      },
      "outputs": [
        {
          "output_type": "execute_result",
          "data": {
            "text/plain": [
              "shape: (3, 4)\n",
              "┌────────────┬──────────────┬─────────────┬──────────┐\n",
              "│ species    ┆ sepal_length ┆ sepal_width ┆ new_col  │\n",
              "│ ---        ┆ ---          ┆ ---         ┆ ---      │\n",
              "│ str        ┆ f64          ┆ f64         ┆ f64      │\n",
              "╞════════════╪══════════════╪═════════════╪══════════╡\n",
              "│ virginica  ┆ 6.622449     ┆ 2.983673    ┆ 5.967347 │\n",
              "│ setosa     ┆ 5.313636     ┆ 3.713636    ┆ 7.427273 │\n",
              "│ versicolor ┆ 5.997872     ┆ 2.804255    ┆ 5.608511 │\n",
              "└────────────┴──────────────┴─────────────┴──────────┘"
            ],
            "text/html": [
              "<div><style>\n",
              ".dataframe > thead > tr,\n",
              ".dataframe > tbody > tr {\n",
              "  text-align: right;\n",
              "  white-space: pre-wrap;\n",
              "}\n",
              "</style>\n",
              "<small>shape: (3, 4)</small><table border=\"1\" class=\"dataframe\"><thead><tr><th>species</th><th>sepal_length</th><th>sepal_width</th><th>new_col</th></tr><tr><td>str</td><td>f64</td><td>f64</td><td>f64</td></tr></thead><tbody><tr><td>&quot;virginica&quot;</td><td>6.622449</td><td>2.983673</td><td>5.967347</td></tr><tr><td>&quot;setosa&quot;</td><td>5.313636</td><td>3.713636</td><td>7.427273</td></tr><tr><td>&quot;versicolor&quot;</td><td>5.997872</td><td>2.804255</td><td>5.608511</td></tr></tbody></table></div>"
            ]
          },
          "metadata": {},
          "execution_count": 8
        }
      ],
      "source": [
        "df_agg = (\n",
        "    df\n",
        "    .select([pl.col(\"^sepal_.*$\"), pl.col(\"species\")])\n",
        "    .with_columns((pl.col(\"sepal_width\") * 2).alias(\"new_col\"))\n",
        "    .filter(pl.col(\"sepal_length\") > 5)\n",
        "    .group_by(\"species\")\n",
        "    .agg(pl.all().mean())\n",
        ")\n",
        "df_agg"
      ]
    },
    {
      "cell_type": "markdown",
      "id": "4fd77363",
      "metadata": {
        "id": "4fd77363"
      },
      "source": [
        "- 複数の処理をチェーンでつなげると可読性が上がる。\n",
        "\n",
        "- Pandas版（チェーンではなく段階的に書く）:\n",
        "```python\n",
        "df2 = df[[\"sepal_length\", \"sepal_width\", \"species\"]]\n",
        "df2[\"new_col\"] = df2[\"sepal_width\"] * 2\n",
        "df2 = df2[df2[\"sepal_length\"] > 5]\n",
        "df2.groupby(\"species\").mean()\n",
        "```\n",
        "\n",
        "- dplyr対応（R）:\n",
        "```r\n",
        "df %>%\n",
        "  select(starts_with(\"sepal\"), species) %>%\n",
        "  mutate(new_col = sepal_width * 2) %>%\n",
        "  filter(sepal_length > 5) %>%\n",
        "  group_by(species) %>%\n",
        "  summarise(across(everything(), mean))\n",
        "```\n"
      ]
    },
    {
      "cell_type": "markdown",
      "id": "a1992e52",
      "metadata": {
        "id": "a1992e52"
      },
      "source": [
        "## 例題9: concat（縦・横方向）"
      ]
    },
    {
      "cell_type": "code",
      "execution_count": 9,
      "id": "86ac1b8c",
      "metadata": {
        "colab": {
          "base_uri": "https://localhost:8080/",
          "height": 161
        },
        "id": "86ac1b8c",
        "outputId": "acdc6024-2f0b-4403-d413-2d8002d0ab1d"
      },
      "outputs": [
        {
          "output_type": "execute_result",
          "data": {
            "text/plain": [
              "shape: (2, 4)\n",
              "┌─────┬─────┬───────┬───────┐\n",
              "│ A   ┆ B   ┆ A_new ┆ B_new │\n",
              "│ --- ┆ --- ┆ ---   ┆ ---   │\n",
              "│ i64 ┆ i64 ┆ i64   ┆ i64   │\n",
              "╞═════╪═════╪═══════╪═══════╡\n",
              "│ 1   ┆ 3   ┆ 5     ┆ 7     │\n",
              "│ 2   ┆ 4   ┆ 6     ┆ 8     │\n",
              "└─────┴─────┴───────┴───────┘"
            ],
            "text/html": [
              "<div><style>\n",
              ".dataframe > thead > tr,\n",
              ".dataframe > tbody > tr {\n",
              "  text-align: right;\n",
              "  white-space: pre-wrap;\n",
              "}\n",
              "</style>\n",
              "<small>shape: (2, 4)</small><table border=\"1\" class=\"dataframe\"><thead><tr><th>A</th><th>B</th><th>A_new</th><th>B_new</th></tr><tr><td>i64</td><td>i64</td><td>i64</td><td>i64</td></tr></thead><tbody><tr><td>1</td><td>3</td><td>5</td><td>7</td></tr><tr><td>2</td><td>4</td><td>6</td><td>8</td></tr></tbody></table></div>"
            ]
          },
          "metadata": {},
          "execution_count": 9
        }
      ],
      "source": [
        "df1 = pl.DataFrame({\"A\": [1, 2], \"B\": [3, 4]})\n",
        "df2 = pl.DataFrame({\"A\": [5, 6], \"B\": [7, 8]})\n",
        "df2_renamed = df2.rename({\"A\": \"A_new\", \"B\": \"B_new\"})\n",
        "\n",
        "# 縦方向\n",
        "pl.concat([df1, df2], how=\"vertical\")\n",
        "\n",
        "# 横方向（名前が被らないよう変更後）\n",
        "pl.concat([df1, df2_renamed], how=\"horizontal\")"
      ]
    },
    {
      "cell_type": "markdown",
      "id": "278202f2",
      "metadata": {
        "id": "278202f2"
      },
      "source": [
        "- `pl.concat()` の引数：\n",
        "  - `how`: `\"vertical\"`（デフォルト） または `\"horizontal\"`\n",
        "\n",
        "- Pandas版:\n",
        "```python\n",
        "pd.concat([df1, df2], axis=0)  # 縦\n",
        "pd.concat([df1, df2], axis=1)  # 横\n",
        "```\n",
        "\n",
        "- dplyr対応（R）:\n",
        "```r\n",
        "bind_rows(df1, df2)  # 縦\n",
        "bind_cols(df1, df2_renamed)  # 横\n",
        "```\n"
      ]
    },
    {
      "cell_type": "markdown",
      "id": "31f83a8a",
      "metadata": {
        "id": "31f83a8a"
      },
      "source": [
        "## 例題10: 重複の削除"
      ]
    },
    {
      "cell_type": "code",
      "execution_count": 10,
      "id": "3e85d4dc",
      "metadata": {
        "colab": {
          "base_uri": "https://localhost:8080/",
          "height": 192
        },
        "id": "3e85d4dc",
        "outputId": "dbda1d2f-08dd-4ee1-d888-334da8e170a7"
      },
      "outputs": [
        {
          "output_type": "execute_result",
          "data": {
            "text/plain": [
              "shape: (3, 5)\n",
              "┌──────────────┬─────────────┬──────────────┬─────────────┬────────────┐\n",
              "│ sepal_length ┆ sepal_width ┆ petal_length ┆ petal_width ┆ species    │\n",
              "│ ---          ┆ ---         ┆ ---          ┆ ---         ┆ ---        │\n",
              "│ f64          ┆ f64         ┆ f64          ┆ f64         ┆ str        │\n",
              "╞══════════════╪═════════════╪══════════════╪═════════════╪════════════╡\n",
              "│ 6.3          ┆ 3.3         ┆ 6.0          ┆ 2.5         ┆ virginica  │\n",
              "│ 5.1          ┆ 3.5         ┆ 1.4          ┆ 0.2         ┆ setosa     │\n",
              "│ 7.0          ┆ 3.2         ┆ 4.7          ┆ 1.4         ┆ versicolor │\n",
              "└──────────────┴─────────────┴──────────────┴─────────────┴────────────┘"
            ],
            "text/html": [
              "<div><style>\n",
              ".dataframe > thead > tr,\n",
              ".dataframe > tbody > tr {\n",
              "  text-align: right;\n",
              "  white-space: pre-wrap;\n",
              "}\n",
              "</style>\n",
              "<small>shape: (3, 5)</small><table border=\"1\" class=\"dataframe\"><thead><tr><th>sepal_length</th><th>sepal_width</th><th>petal_length</th><th>petal_width</th><th>species</th></tr><tr><td>f64</td><td>f64</td><td>f64</td><td>f64</td><td>str</td></tr></thead><tbody><tr><td>6.3</td><td>3.3</td><td>6.0</td><td>2.5</td><td>&quot;virginica&quot;</td></tr><tr><td>5.1</td><td>3.5</td><td>1.4</td><td>0.2</td><td>&quot;setosa&quot;</td></tr><tr><td>7.0</td><td>3.2</td><td>4.7</td><td>1.4</td><td>&quot;versicolor&quot;</td></tr></tbody></table></div>"
            ]
          },
          "metadata": {},
          "execution_count": 10
        }
      ],
      "source": [
        "df.unique(subset=[\"species\"])"
      ]
    },
    {
      "cell_type": "markdown",
      "id": "7cf2fe6f",
      "metadata": {
        "id": "7cf2fe6f"
      },
      "source": [
        "- `subset` を指定することで特定列の重複のみを削除できる。\n",
        "\n",
        "- Pandas版:\n",
        "```python\n",
        "df.drop_duplicates(subset=[\"species\"])\n",
        "```\n",
        "\n",
        "- dplyr対応（R）:\n",
        "```r\n",
        "df %>% distinct(species, .keep_all = TRUE)\n",
        "```\n"
      ]
    },
    {
      "cell_type": "markdown",
      "id": "9122931a",
      "metadata": {
        "id": "9122931a"
      },
      "source": [
        "# Polars における concat / join のオプションと使用例"
      ]
    },
    {
      "cell_type": "markdown",
      "id": "cd5baa46",
      "metadata": {
        "id": "cd5baa46"
      },
      "source": [
        "このノートブックでは、Polars の `concat` および `join` の基本的な使い方と、各種オプションについて実例とともに説明します。Pandas や R（dplyr）での同等の操作も紹介します。\n"
      ]
    },
    {
      "cell_type": "code",
      "execution_count": 11,
      "id": "4a3a3c1a",
      "metadata": {
        "id": "4a3a3c1a"
      },
      "outputs": [],
      "source": [
        "import polars as pl\n",
        "\n",
        "df1 = pl.DataFrame({\n",
        "    \"id\": [1, 2, 3],\n",
        "    \"val1\": [\"A\", \"B\", \"C\"]\n",
        "})\n",
        "\n",
        "df2 = pl.DataFrame({\n",
        "    \"id\": [2, 3, 4],\n",
        "    \"val2\": [\"X\", \"Y\", \"Z\"]\n",
        "})\n",
        "\n",
        "df3 = pl.DataFrame({\n",
        "    \"sepal_length\": [5.1, 4.9],\n",
        "    \"sepal_width\": [3.5, 3.0],\n",
        "    \"species\": [\"setosa\", \"setosa\"]\n",
        "})\n",
        "\n",
        "df4 = pl.DataFrame({\n",
        "    \"sepal_length\": [6.2, 5.9],\n",
        "    \"petal_length\": [4.5, 5.1],\n",
        "    \"species\": [\"versicolor\", \"virginica\"]\n",
        "})\n"
      ]
    },
    {
      "cell_type": "markdown",
      "id": "b6199486",
      "metadata": {
        "id": "b6199486"
      },
      "source": [
        "## 1. 縦に concat（`how=\"vertical\"`）\n",
        "\n",
        "### 1.1 列名が一致している場合\n",
        "\n",
        "Polars の `pl.concat([df1, df2], how=\"vertical\")` を使うと、データフレームを**縦方向に連結**できます。このとき、**列名と順序が一致している必要があります。**\n",
        "\n",
        "- `how=\"vertical\"`：上下方向に結合\n",
        "- `rechunk=True`（デフォルト）：結合後にチャンクをまとめてメモリ最適化\n",
        "\n"
      ]
    },
    {
      "cell_type": "code",
      "execution_count": 12,
      "id": "30e0e599",
      "metadata": {
        "colab": {
          "base_uri": "https://localhost:8080/",
          "height": 224
        },
        "id": "30e0e599",
        "outputId": "e924f700-bc76-4c1b-dbab-3438326ac7bc"
      },
      "outputs": [
        {
          "output_type": "execute_result",
          "data": {
            "text/plain": [
              "shape: (4, 2)\n",
              "┌──────┬──────┐\n",
              "│ col1 ┆ col2 │\n",
              "│ ---  ┆ ---  │\n",
              "│ i64  ┆ str  │\n",
              "╞══════╪══════╡\n",
              "│ 1    ┆ A    │\n",
              "│ 2    ┆ B    │\n",
              "│ 3    ┆ C    │\n",
              "│ 4    ┆ D    │\n",
              "└──────┴──────┘"
            ],
            "text/html": [
              "<div><style>\n",
              ".dataframe > thead > tr,\n",
              ".dataframe > tbody > tr {\n",
              "  text-align: right;\n",
              "  white-space: pre-wrap;\n",
              "}\n",
              "</style>\n",
              "<small>shape: (4, 2)</small><table border=\"1\" class=\"dataframe\"><thead><tr><th>col1</th><th>col2</th></tr><tr><td>i64</td><td>str</td></tr></thead><tbody><tr><td>1</td><td>&quot;A&quot;</td></tr><tr><td>2</td><td>&quot;B&quot;</td></tr><tr><td>3</td><td>&quot;C&quot;</td></tr><tr><td>4</td><td>&quot;D&quot;</td></tr></tbody></table></div>"
            ]
          },
          "metadata": {},
          "execution_count": 12
        }
      ],
      "source": [
        "# 同じ列構造のデータを縦に連結\n",
        "df_a = pl.DataFrame({\"col1\": [1, 2], \"col2\": [\"A\", \"B\"]})\n",
        "df_b = pl.DataFrame({\"col1\": [3, 4], \"col2\": [\"C\", \"D\"]})\n",
        "\n",
        "pl.concat([df_a, df_b], how=\"vertical\")\n"
      ]
    },
    {
      "cell_type": "markdown",
      "id": "8002dd47",
      "metadata": {
        "id": "8002dd47"
      },
      "source": [
        "**Pandasの場合：**\n",
        "\n",
        "```python\n",
        "pd.concat([df_a.to_pandas(), df_b.to_pandas()], axis=0)\n",
        "```\n",
        "\n",
        "**R (dplyr) の場合：**\n",
        "\n",
        "```r\n",
        "bind_rows(df_a, df_b)\n",
        "```\n"
      ]
    },
    {
      "cell_type": "markdown",
      "id": "fcc731b1",
      "metadata": {
        "id": "fcc731b1"
      },
      "source": [
        "### 1.2 列名が異なる場合\n",
        "\n",
        "列が一致していないデータフレームを結合したい場合は`how=\"diagonal\"`を指定します。列名を基準にした完全外部結合となり、足りない部分はnullで埋められ\n",
        "\n",
        "- 異なる列は `null` で埋まる\n",
        "- 順序が異なっていてもOK（名前一致で処理）\n",
        "\n"
      ]
    },
    {
      "cell_type": "code",
      "source": [
        "# 列名・数が異なる df3, df4 の結合`\n",
        "pl.concat([df3, df4], how=\"diagonal\")"
      ],
      "metadata": {
        "colab": {
          "base_uri": "https://localhost:8080/",
          "height": 224
        },
        "id": "nfDRVWYNn0v2",
        "outputId": "a2f63c87-4eb1-4b49-dc7c-65afe7d08bdb"
      },
      "id": "nfDRVWYNn0v2",
      "execution_count": 14,
      "outputs": [
        {
          "output_type": "execute_result",
          "data": {
            "text/plain": [
              "shape: (4, 4)\n",
              "┌──────────────┬─────────────┬────────────┬──────────────┐\n",
              "│ sepal_length ┆ sepal_width ┆ species    ┆ petal_length │\n",
              "│ ---          ┆ ---         ┆ ---        ┆ ---          │\n",
              "│ f64          ┆ f64         ┆ str        ┆ f64          │\n",
              "╞══════════════╪═════════════╪════════════╪══════════════╡\n",
              "│ 5.1          ┆ 3.5         ┆ setosa     ┆ null         │\n",
              "│ 4.9          ┆ 3.0         ┆ setosa     ┆ null         │\n",
              "│ 6.2          ┆ null        ┆ versicolor ┆ 4.5          │\n",
              "│ 5.9          ┆ null        ┆ virginica  ┆ 5.1          │\n",
              "└──────────────┴─────────────┴────────────┴──────────────┘"
            ],
            "text/html": [
              "<div><style>\n",
              ".dataframe > thead > tr,\n",
              ".dataframe > tbody > tr {\n",
              "  text-align: right;\n",
              "  white-space: pre-wrap;\n",
              "}\n",
              "</style>\n",
              "<small>shape: (4, 4)</small><table border=\"1\" class=\"dataframe\"><thead><tr><th>sepal_length</th><th>sepal_width</th><th>species</th><th>petal_length</th></tr><tr><td>f64</td><td>f64</td><td>str</td><td>f64</td></tr></thead><tbody><tr><td>5.1</td><td>3.5</td><td>&quot;setosa&quot;</td><td>null</td></tr><tr><td>4.9</td><td>3.0</td><td>&quot;setosa&quot;</td><td>null</td></tr><tr><td>6.2</td><td>null</td><td>&quot;versicolor&quot;</td><td>4.5</td></tr><tr><td>5.9</td><td>null</td><td>&quot;virginica&quot;</td><td>5.1</td></tr></tbody></table></div>"
            ]
          },
          "metadata": {},
          "execution_count": 14
        }
      ]
    },
    {
      "cell_type": "markdown",
      "id": "06fbf45c",
      "metadata": {
        "id": "06fbf45c"
      },
      "source": [
        "**Pandasの場合：**\n",
        "\n",
        "```python\n",
        "pd.concat([df3.to_pandas(), df4.to_pandas()], axis=0, ignore_index=True)\n",
        "```\n",
        "\n",
        "**R (dplyr) の場合：**\n",
        "\n",
        "```r\n",
        "bind_rows(df3, df4)\n",
        "```\n"
      ]
    },
    {
      "cell_type": "markdown",
      "id": "8b9c56cb",
      "metadata": {
        "id": "8b9c56cb"
      },
      "source": [
        "## 2. 横に concat（`how=\"horizontal\"`）\n",
        "\n",
        "Polars の `how=\"horizontal\"` は**インデックスベース**で横方向に連結します。これは Pandas の `axis=1`、R の `bind_cols` に相当します。\n",
        "\n",
        "- 列数が異なる場合は`null`が挿入される\n",
        "- 行数が揃っていないとエラーになる可能性あり\n",
        "\n"
      ]
    },
    {
      "cell_type": "code",
      "execution_count": 18,
      "id": "a19b2939",
      "metadata": {
        "colab": {
          "base_uri": "https://localhost:8080/",
          "height": 192
        },
        "id": "a19b2939",
        "outputId": "f7c78e3d-0cb6-4d6d-d1e0-0bc580e32816"
      },
      "outputs": [
        {
          "output_type": "execute_result",
          "data": {
            "text/plain": [
              "shape: (3, 5)\n",
              "┌─────┬──────┬──────────────┬─────────────┬─────────┐\n",
              "│ id  ┆ val2 ┆ sepal_length ┆ sepal_width ┆ species │\n",
              "│ --- ┆ ---  ┆ ---          ┆ ---         ┆ ---     │\n",
              "│ i64 ┆ str  ┆ f64          ┆ f64         ┆ str     │\n",
              "╞═════╪══════╪══════════════╪═════════════╪═════════╡\n",
              "│ 2   ┆ X    ┆ 5.1          ┆ 3.5         ┆ setosa  │\n",
              "│ 3   ┆ Y    ┆ 4.9          ┆ 3.0         ┆ setosa  │\n",
              "│ 4   ┆ Z    ┆ null         ┆ null        ┆ null    │\n",
              "└─────┴──────┴──────────────┴─────────────┴─────────┘"
            ],
            "text/html": [
              "<div><style>\n",
              ".dataframe > thead > tr,\n",
              ".dataframe > tbody > tr {\n",
              "  text-align: right;\n",
              "  white-space: pre-wrap;\n",
              "}\n",
              "</style>\n",
              "<small>shape: (3, 5)</small><table border=\"1\" class=\"dataframe\"><thead><tr><th>id</th><th>val2</th><th>sepal_length</th><th>sepal_width</th><th>species</th></tr><tr><td>i64</td><td>str</td><td>f64</td><td>f64</td><td>str</td></tr></thead><tbody><tr><td>2</td><td>&quot;X&quot;</td><td>5.1</td><td>3.5</td><td>&quot;setosa&quot;</td></tr><tr><td>3</td><td>&quot;Y&quot;</td><td>4.9</td><td>3.0</td><td>&quot;setosa&quot;</td></tr><tr><td>4</td><td>&quot;Z&quot;</td><td>null</td><td>null</td><td>null</td></tr></tbody></table></div>"
            ]
          },
          "metadata": {},
          "execution_count": 18
        }
      ],
      "source": [
        "pl.concat([df2, df3], how=\"horizontal\")\n"
      ]
    },
    {
      "cell_type": "markdown",
      "id": "395fdc8f",
      "metadata": {
        "id": "395fdc8f"
      },
      "source": [
        "**Pandasの場合：**\n",
        "\n",
        "```python\n",
        "pd.concat([df1.to_pandas(), df2.to_pandas()], axis=1)\n",
        "```\n",
        "\n",
        "**R (dplyr) の場合：**\n",
        "\n",
        "```r\n",
        "bind_cols(df1, df2)\n",
        "```\n"
      ]
    },
    {
      "cell_type": "markdown",
      "id": "692bb546",
      "metadata": {
        "id": "692bb546"
      },
      "source": [
        "## 3. join のオプション\n",
        "\n",
        "Polars の `join` は Pandas の `merge` とほぼ同じ機能です。\n",
        "\n",
        "| 引数       | 説明 |\n",
        "|------------|------|\n",
        "| `on`       | 結合キー（列名） |\n",
        "| `how`      | `\"inner\"`、`\"left\"`、`\"outer\"`、`\"cross\"` |\n",
        "| `suffix`   | 重複列の接尾辞 |\n",
        "\n"
      ]
    },
    {
      "cell_type": "code",
      "execution_count": 19,
      "id": "f2c9ccd7",
      "metadata": {
        "colab": {
          "base_uri": "https://localhost:8080/"
        },
        "id": "f2c9ccd7",
        "outputId": "bcb0e56b-8d71-456c-c771-656f3c2ee910"
      },
      "outputs": [
        {
          "output_type": "stream",
          "name": "stdout",
          "text": [
            "=== inner join ===\n",
            "shape: (2, 3)\n",
            "┌─────┬──────┬──────┐\n",
            "│ id  ┆ val1 ┆ val2 │\n",
            "│ --- ┆ ---  ┆ ---  │\n",
            "│ i64 ┆ str  ┆ str  │\n",
            "╞═════╪══════╪══════╡\n",
            "│ 2   ┆ B    ┆ X    │\n",
            "│ 3   ┆ C    ┆ Y    │\n",
            "└─────┴──────┴──────┘\n",
            "=== left join ===\n",
            "shape: (3, 3)\n",
            "┌─────┬──────┬──────┐\n",
            "│ id  ┆ val1 ┆ val2 │\n",
            "│ --- ┆ ---  ┆ ---  │\n",
            "│ i64 ┆ str  ┆ str  │\n",
            "╞═════╪══════╪══════╡\n",
            "│ 1   ┆ A    ┆ null │\n",
            "│ 2   ┆ B    ┆ X    │\n",
            "│ 3   ┆ C    ┆ Y    │\n",
            "└─────┴──────┴──────┘\n",
            "=== outer join ===\n",
            "shape: (4, 4)\n",
            "┌──────┬──────┬──────────┬──────┐\n",
            "│ id   ┆ val1 ┆ id_right ┆ val2 │\n",
            "│ ---  ┆ ---  ┆ ---      ┆ ---  │\n",
            "│ i64  ┆ str  ┆ i64      ┆ str  │\n",
            "╞══════╪══════╪══════════╪══════╡\n",
            "│ 2    ┆ B    ┆ 2        ┆ X    │\n",
            "│ 3    ┆ C    ┆ 3        ┆ Y    │\n",
            "│ null ┆ null ┆ 4        ┆ Z    │\n",
            "│ 1    ┆ A    ┆ null     ┆ null │\n",
            "└──────┴──────┴──────────┴──────┘\n",
            "=== cross join ===\n",
            "shape: (9, 4)\n",
            "┌─────┬──────┬──────────┬──────┐\n",
            "│ id  ┆ val1 ┆ id_right ┆ val2 │\n",
            "│ --- ┆ ---  ┆ ---      ┆ ---  │\n",
            "│ i64 ┆ str  ┆ i64      ┆ str  │\n",
            "╞═════╪══════╪══════════╪══════╡\n",
            "│ 1   ┆ A    ┆ 2        ┆ X    │\n",
            "│ 1   ┆ A    ┆ 3        ┆ Y    │\n",
            "│ 1   ┆ A    ┆ 4        ┆ Z    │\n",
            "│ 2   ┆ B    ┆ 2        ┆ X    │\n",
            "│ 2   ┆ B    ┆ 3        ┆ Y    │\n",
            "│ 2   ┆ B    ┆ 4        ┆ Z    │\n",
            "│ 3   ┆ C    ┆ 2        ┆ X    │\n",
            "│ 3   ┆ C    ┆ 3        ┆ Y    │\n",
            "│ 3   ┆ C    ┆ 4        ┆ Z    │\n",
            "└─────┴──────┴──────────┴──────┘\n"
          ]
        },
        {
          "output_type": "stream",
          "name": "stderr",
          "text": [
            "<ipython-input-19-18821dd92998>:11: DeprecationWarning: Use of `how='outer'` should be replaced with `how='full'`.\n",
            "  print(df1.join(df2, on=\"id\", how=\"outer\"))\n"
          ]
        }
      ],
      "source": [
        "# inner join\n",
        "print(\"=== inner join ===\")\n",
        "print(df1.join(df2, on=\"id\", how=\"inner\"))\n",
        "\n",
        "# left join\n",
        "print(\"=== left join ===\")\n",
        "print(df1.join(df2, on=\"id\", how=\"left\"))\n",
        "\n",
        "# outer join\n",
        "print(\"=== outer join ===\")\n",
        "print(df1.join(df2, on=\"id\", how=\"outer\"))\n",
        "\n",
        "# cross join\n",
        "print(\"=== cross join ===\")\n",
        "print(df1.join(df2, how=\"cross\"))\n"
      ]
    },
    {
      "cell_type": "markdown",
      "id": "92a5faff",
      "metadata": {
        "id": "92a5faff"
      },
      "source": [
        "**Pandasの場合：**\n",
        "\n",
        "```python\n",
        "pd.merge(df1.to_pandas(), df2.to_pandas(), on=\"id\", how=\"inner\")\n",
        "pd.merge(df1.to_pandas(), df2.to_pandas(), on=\"id\", how=\"outer\")\n",
        "```\n",
        "\n",
        "**R (dplyr) の場合：**\n",
        "\n",
        "```r\n",
        "inner_join(df1, df2, by = \"id\")\n",
        "full_join(df1, df2, by = \"id\")\n",
        "```\n"
      ]
    },
    {
      "cell_type": "markdown",
      "id": "ebfcd56a",
      "metadata": {
        "id": "ebfcd56a"
      },
      "source": [
        "# Polarsを使ったデータ分析練習\n",
        "\n",
        "このノートブックでは、`Polars` を使用してデータ分析を行う方法を学びます。\n",
        "\n",
        "また、`Pandas` と `dplyr (R)` を用いた場合のコードも示し、各ライブラリの違いを理解します。\n",
        "\n",
        "対象データ: **Irisデータセット**"
      ]
    },
    {
      "cell_type": "markdown",
      "id": "2692a770",
      "metadata": {
        "id": "2692a770"
      },
      "source": [
        "## 1. ライブラリのインポート\n",
        "\n",
        "まず、必要なライブラリをインポートします。"
      ]
    },
    {
      "cell_type": "code",
      "execution_count": null,
      "id": "a5b66eba",
      "metadata": {
        "id": "a5b66eba"
      },
      "outputs": [],
      "source": [
        "import polars as pl\n",
        "import pandas as pd\n",
        "import seaborn as sns  # データ取得用\n",
        "import pyarrow.csv as pv  # PolarsでのCSV処理\n"
      ]
    },
    {
      "cell_type": "markdown",
      "id": "d3152cb3",
      "metadata": {
        "id": "d3152cb3"
      },
      "source": [
        "## 2. データの読み込み\n",
        "\n",
        "Irisデータセットをロードし、Polars・Pandas・dplyr（R）での処理を比較します。"
      ]
    },
    {
      "cell_type": "code",
      "execution_count": null,
      "id": "a9a53610",
      "metadata": {
        "id": "a9a53610"
      },
      "outputs": [],
      "source": [
        "# Polarsでのデータ読み込み\n",
        "iris = sns.load_dataset('iris')\n",
        "iris_pl = pl.from_pandas(iris)\n",
        "iris_pl.head()"
      ]
    },
    {
      "cell_type": "code",
      "execution_count": null,
      "id": "2efcf002",
      "metadata": {
        "id": "2efcf002"
      },
      "outputs": [],
      "source": [
        "# Pandasでのデータ読み込み\n",
        "iris_pd = sns.load_dataset('iris')\n",
        "iris_pd.head()"
      ]
    },
    {
      "cell_type": "markdown",
      "id": "f8598c1a",
      "metadata": {
        "id": "f8598c1a"
      },
      "source": [
        "**R (dplyr) での読み込み:**\n",
        "\n",
        "```r\n",
        "library(dplyr)\n",
        "iris_df <- read.csv('iris.csv')\n",
        "head(iris_df)\n",
        "```"
      ]
    },
    {
      "cell_type": "markdown",
      "id": "241fd6b6",
      "metadata": {
        "id": "241fd6b6"
      },
      "source": [
        "## 3. データの概要確認\n",
        "\n",
        "データの基本的な情報を確認します。"
      ]
    },
    {
      "cell_type": "code",
      "execution_count": null,
      "id": "5ffca4a6",
      "metadata": {
        "id": "5ffca4a6"
      },
      "outputs": [],
      "source": [
        "# Polarsでのデータ確認\n",
        "iris_pl.describe()"
      ]
    },
    {
      "cell_type": "code",
      "execution_count": null,
      "id": "dd451abc",
      "metadata": {
        "id": "dd451abc"
      },
      "outputs": [],
      "source": [
        "# Pandasでのデータ確認\n",
        "iris_pd.describe()"
      ]
    },
    {
      "cell_type": "markdown",
      "id": "7971e492",
      "metadata": {
        "id": "7971e492"
      },
      "source": [
        "**R (dplyr) の場合:**\n",
        "\n",
        "```r\n",
        "summary(iris_df)\n",
        "```"
      ]
    },
    {
      "cell_type": "markdown",
      "id": "5bb8e08a",
      "metadata": {
        "id": "5bb8e08a"
      },
      "source": [
        "## 4. フィルタリング\n",
        "\n",
        "特定の条件を満たす行を抽出します。"
      ]
    },
    {
      "cell_type": "code",
      "execution_count": null,
      "id": "052e318b",
      "metadata": {
        "id": "052e318b"
      },
      "outputs": [],
      "source": [
        "# Polarsでフィルタリング\n",
        "iris_pl.filter(iris_pl['sepal_length'] > 5.0)"
      ]
    },
    {
      "cell_type": "code",
      "execution_count": null,
      "id": "e8f7f03d",
      "metadata": {
        "id": "e8f7f03d"
      },
      "outputs": [],
      "source": [
        "# Pandasでフィルタリング\n",
        "iris_pd[iris_pd['sepal_length'] > 5.0]"
      ]
    },
    {
      "cell_type": "markdown",
      "id": "5bddfd0f",
      "metadata": {
        "id": "5bddfd0f"
      },
      "source": [
        "**R (dplyr) の場合:**\n",
        "\n",
        "```r\n",
        "iris_df %>% filter(sepal_length > 5.0)\n",
        "```"
      ]
    },
    {
      "cell_type": "markdown",
      "id": "ca044868",
      "metadata": {
        "id": "ca044868"
      },
      "source": [
        "## 5. `groupby` と `agg` を使った処理\n",
        "\n",
        "グループごとの平均を計算します。"
      ]
    },
    {
      "cell_type": "code",
      "execution_count": null,
      "id": "4d5cc605",
      "metadata": {
        "id": "4d5cc605"
      },
      "outputs": [],
      "source": [
        "# Polarsでのgroupby処理\n",
        "iris_pl.groupby('species').agg(\n",
        "    pl.col('sepal_length').mean().alias('avg_sepal_length')\n",
        ")"
      ]
    },
    {
      "cell_type": "code",
      "execution_count": null,
      "id": "c974be71",
      "metadata": {
        "id": "c974be71"
      },
      "outputs": [],
      "source": [
        "# Pandasでのgroupby処理\n",
        "iris_pd.groupby('species')['sepal_length'].mean().reset_index()"
      ]
    },
    {
      "cell_type": "markdown",
      "id": "747201b8",
      "metadata": {
        "id": "747201b8"
      },
      "source": [
        "**R (dplyr) の場合:**\n",
        "\n",
        "```r\n",
        "iris_df %>% group_by(species) %>% summarize(avg_sepal_length = mean(sepal_length))\n",
        "```"
      ]
    },
    {
      "cell_type": "markdown",
      "id": "a1c57c77",
      "metadata": {
        "id": "a1c57c77"
      },
      "source": [
        "## 6. ファイルの保存\n",
        "\n",
        "データをCSVやJSON形式で保存します。"
      ]
    },
    {
      "cell_type": "code",
      "execution_count": null,
      "id": "49430912",
      "metadata": {
        "id": "49430912"
      },
      "outputs": [],
      "source": [
        "# PolarsでCSV保存\n",
        "iris_pl.write_csv('iris_polars.csv')"
      ]
    },
    {
      "cell_type": "code",
      "execution_count": null,
      "id": "32c27807",
      "metadata": {
        "id": "32c27807"
      },
      "outputs": [],
      "source": [
        "# PandasでCSV保存\n",
        "iris_pd.to_csv('iris_pandas.csv', index=False)"
      ]
    },
    {
      "cell_type": "markdown",
      "id": "4bd74269",
      "metadata": {
        "id": "4bd74269"
      },
      "source": [
        "## 7. `concat` を使ったデータの結合\n",
        "\n",
        "縦や横の結合方法を示します。"
      ]
    },
    {
      "cell_type": "code",
      "execution_count": null,
      "id": "45653293",
      "metadata": {
        "id": "45653293"
      },
      "outputs": [],
      "source": [
        "# Polarsで縦方向の結合\n",
        "iris_concat = pl.concat([iris_pl, iris_pl], how='vertical')\n",
        "iris_concat.head()"
      ]
    },
    {
      "cell_type": "code",
      "execution_count": null,
      "id": "1ef2884a",
      "metadata": {
        "id": "1ef2884a"
      },
      "outputs": [],
      "source": [
        "# Pandasで縦方向の結合\n",
        "iris_concat_pd = pd.concat([iris_pd, iris_pd], axis=0)\n",
        "iris_concat_pd.head()"
      ]
    },
    {
      "cell_type": "markdown",
      "id": "356e645c",
      "metadata": {
        "id": "356e645c"
      },
      "source": [
        "## 8. `join` による結合\n",
        "\n",
        "データフレーム同士をキーを用いて結合します。"
      ]
    },
    {
      "cell_type": "code",
      "execution_count": null,
      "id": "3c4fbac4",
      "metadata": {
        "id": "3c4fbac4"
      },
      "outputs": [],
      "source": [
        "# Polarsでの結合\n",
        "iris_pl.join(iris_pl, on='species', how='inner')"
      ]
    },
    {
      "cell_type": "code",
      "execution_count": null,
      "id": "ab2adc7a",
      "metadata": {
        "id": "ab2adc7a"
      },
      "outputs": [],
      "source": [
        "# Pandasでの結合\n",
        "iris_pd.merge(iris_pd, on='species', how='inner')"
      ]
    },
    {
      "cell_type": "markdown",
      "id": "fd730f12",
      "metadata": {
        "id": "fd730f12"
      },
      "source": [
        "## 9. 欠損値の確認\n",
        "\n",
        "データの欠損値をチェックします。"
      ]
    },
    {
      "cell_type": "code",
      "execution_count": null,
      "id": "4156b62f",
      "metadata": {
        "id": "4156b62f"
      },
      "outputs": [],
      "source": [
        "# Polarsで欠損値の確認\n",
        "iris_pl.null_count()"
      ]
    },
    {
      "cell_type": "code",
      "execution_count": null,
      "id": "25f4e755",
      "metadata": {
        "id": "25f4e755"
      },
      "outputs": [],
      "source": [
        "# Pandasで欠損値の確認\n",
        "iris_pd.isnull().sum()"
      ]
    },
    {
      "cell_type": "markdown",
      "id": "6c6bb646",
      "metadata": {
        "id": "6c6bb646"
      },
      "source": [
        "## 10. 複数処理のチェーン\n",
        "\n",
        "複数の処理を組み合わせたデータ操作を行います。"
      ]
    },
    {
      "cell_type": "code",
      "execution_count": null,
      "id": "d035caa5",
      "metadata": {
        "id": "d035caa5"
      },
      "outputs": [],
      "source": [
        "# Polarsでのチェーン処理\n",
        "iris_pl.select(['sepal_length', 'species'])\n",
        "       .filter(pl.col('sepal_length') > 5.0)\n",
        "       .groupby('species')\n",
        "       .agg(pl.col('sepal_length').mean().alias('avg_sepal_length'))"
      ]
    },
    {
      "cell_type": "code",
      "execution_count": null,
      "id": "6fad2e0a",
      "metadata": {
        "id": "6fad2e0a"
      },
      "outputs": [],
      "source": [
        "# Pandasでのチェーン処理\n",
        "iris_pd[['sepal_length', 'species']]\n",
        "       .query('sepal_length > 5.0')\n",
        "       .groupby('species')['sepal_length'].mean().reset_index()"
      ]
    }
  ],
  "metadata": {
    "colab": {
      "provenance": []
    },
    "language_info": {
      "name": "python"
    },
    "kernelspec": {
      "name": "python3",
      "display_name": "Python 3"
    }
  },
  "nbformat": 4,
  "nbformat_minor": 5
}