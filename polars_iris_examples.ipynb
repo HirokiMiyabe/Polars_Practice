{
 "cells": [
  {
   "cell_type": "markdown",
   "id": "da0d157b",
   "metadata": {},
   "source": [
    "# 📘 Polars入門：Irisデータセットで学ぶ実践例題集\n",
    "\n",
    "このノートでは、Pythonの高速データフレームライブラリ **Polars** を使って、Irisデータセットを題材にした**15の実践例題**を通じて、データサイエンスに必要な操作を一通り学びます。また、各例題には **Pandas/dplyrとの対応** も併記しています。\n"
   ]
  },
  {
   "cell_type": "markdown",
   "id": "6746b201",
   "metadata": {},
   "source": [
    "### 🔹 例題1：CSVファイルの読み込み\n",
    "\n",
    "主な引数:\n",
    "- `has_header=True`：1行目をヘッダーとして扱う（デフォルト）\n",
    "- `separator=','`：区切り文字の指定\n",
    "- `columns=[\"col1\", \"col2\"]`：読み込む列の指定\n",
    "\n",
    "**対応**\n",
    "Pandas: `pd.read_csv(...)`\n",
    "dplyr: `readr::read_csv(...)`"
   ]
  },
  {
   "cell_type": "code",
   "execution_count": null,
   "id": "dd62b78c",
   "metadata": {},
   "outputs": [],
   "source": [
    "import polars as pl\n",
    "df = pl.read_csv(\"https://j.mp/iriscsv\")"
   ]
  },
  {
   "cell_type": "markdown",
   "id": "1a4ed9c1",
   "metadata": {},
   "source": [
    "### 🔹 例題2：列の選択\n",
    "\n",
    "**他の書き方**:\n",
    "- `df.select(pl.col(\"sepal_length\"))`\n",
    "- `df.select(pl.col(\"^sepal_.*$\"))`（正規表現で複数列を指定）\n",
    "\n",
    "**対応**\n",
    "Pandas: `df[[\"sepal_length\", \"species\"]]`\n",
    "dplyr: `df %>% select(sepal_length, species)`"
   ]
  },
  {
   "cell_type": "code",
   "execution_count": null,
   "id": "2458e77f",
   "metadata": {},
   "outputs": [],
   "source": [
    "df.select([\"sepal_length\", \"species\"])"
   ]
  },
  {
   "cell_type": "markdown",
   "id": "9feb74de",
   "metadata": {},
   "source": [
    "### 🔹 例題3：行の選択（フィルタリング）\n",
    "\n",
    "**対応**\n",
    "Pandas: `df[df[\"sepal_length\"] > 5.0]`\n",
    "dplyr: `df %>% filter(sepal_length > 5)`"
   ]
  },
  {
   "cell_type": "code",
   "execution_count": null,
   "id": "b4289c45",
   "metadata": {},
   "outputs": [],
   "source": [
    "df.filter(pl.col(\"sepal_length\") > 5.0)"
   ]
  },
  {
   "cell_type": "markdown",
   "id": "70001529",
   "metadata": {},
   "source": [
    "### 🔹 例題4：列の追加\n",
    "\n",
    "**対応**\n",
    "Pandas: `df[\"double_length\"] = df[\"sepal_length\"] * 2`\n",
    "dplyr: `df %>% mutate(double_length = sepal_length * 2)`"
   ]
  },
  {
   "cell_type": "code",
   "execution_count": null,
   "id": "0e2bc722",
   "metadata": {},
   "outputs": [],
   "source": [
    "df.with_columns((pl.col(\"sepal_length\") * 2).alias(\"double_length\"))"
   ]
  },
  {
   "cell_type": "markdown",
   "id": "004be7b8",
   "metadata": {},
   "source": [
    "### 🔹 例題5：基本統計量の計算\n",
    "\n",
    "**対応**\n",
    "Pandas: `df[\"sepal_length\"].mean()`\n",
    "dplyr: `mean(df$sepal_length)`"
   ]
  },
  {
   "cell_type": "code",
   "execution_count": null,
   "id": "705260fc",
   "metadata": {},
   "outputs": [],
   "source": [
    "df.select(pl.col(\"sepal_length\").mean())"
   ]
  },
  {
   "cell_type": "markdown",
   "id": "0d531afc",
   "metadata": {},
   "source": [
    "### 🔹 例題6：グループごとの平均\n",
    "\n",
    "**対応**\n",
    "Pandas: `df.groupby(\"species\")[\"sepal_length\"].mean()`\n",
    "dplyr: `df %>% group_by(species) %>% summarise(mean_sepal_length = mean(sepal_length))`"
   ]
  },
  {
   "cell_type": "code",
   "execution_count": null,
   "id": "069e1808",
   "metadata": {},
   "outputs": [],
   "source": [
    "df.group_by(\"species\").agg(pl.col(\"sepal_length\").mean().alias(\"mean_sepal_length\"))"
   ]
  },
  {
   "cell_type": "markdown",
   "id": "06951300",
   "metadata": {},
   "source": [
    "### 🔹 例題7：複数列の平均\n",
    "\n"
   ]
  },
  {
   "cell_type": "code",
   "execution_count": null,
   "id": "28fdb6b5",
   "metadata": {},
   "outputs": [],
   "source": [
    "df.group_by(\"species\").agg([pl.mean(\"sepal_length\"), pl.mean(\"sepal_width\")])"
   ]
  },
  {
   "cell_type": "markdown",
   "id": "8f120614",
   "metadata": {},
   "source": [
    "### 🔹 例題8：全列の平均（`pl.all()`）\n",
    "\n",
    "`pl.all()` はすべての列を対象にする便利な関数。"
   ]
  },
  {
   "cell_type": "code",
   "execution_count": null,
   "id": "6bf3ffad",
   "metadata": {},
   "outputs": [],
   "source": [
    "df.group_by(\"species\").agg(pl.all().mean())"
   ]
  },
  {
   "cell_type": "markdown",
   "id": "0f66a560",
   "metadata": {},
   "source": [
    "### 🔹 例題9：特定列の最大・最小\n",
    "\n"
   ]
  },
  {
   "cell_type": "code",
   "execution_count": null,
   "id": "6b452160",
   "metadata": {},
   "outputs": [],
   "source": [
    "df.group_by(\"species\").agg([\n",
    "    pl.col(\"sepal_length\").max().alias(\"max_length\"),\n",
    "    pl.col(\"sepal_length\").min().alias(\"min_length\")\n",
    "])"
   ]
  },
  {
   "cell_type": "markdown",
   "id": "7689135b",
   "metadata": {},
   "source": [
    "### 🔹 例題10：CSVへの保存\n",
    "\n",
    "**対応**\n",
    "Pandas: `df.to_csv(\"output.csv\")`\n",
    "dplyr: `readr::write_csv(df, \"output.csv\")`"
   ]
  },
  {
   "cell_type": "code",
   "execution_count": null,
   "id": "5800df0c",
   "metadata": {},
   "outputs": [],
   "source": [
    "df.write_csv(\"output.csv\")"
   ]
  },
  {
   "cell_type": "markdown",
   "id": "fbff57fb",
   "metadata": {},
   "source": [
    "### 🔹 例題11：JSONへの保存\n",
    "\n",
    "**対応**\n",
    "Pandas: `df.to_json(...)`\n",
    "dplyr: `jsonlite::write_json(...)`"
   ]
  },
  {
   "cell_type": "code",
   "execution_count": null,
   "id": "6b3ca1bd",
   "metadata": {},
   "outputs": [],
   "source": [
    "df.write_json(\"output.json\")"
   ]
  },
  {
   "cell_type": "markdown",
   "id": "d83230f0",
   "metadata": {},
   "source": [
    "### 🔹 例題12：ファイル読み込み時の列指定\n",
    "\n",
    "**対応**\n",
    "Pandas: `pd.read_csv(..., usecols=[\"sepal_length\", \"species\"])`"
   ]
  },
  {
   "cell_type": "code",
   "execution_count": null,
   "id": "b9bf8ac7",
   "metadata": {},
   "outputs": [],
   "source": [
    "pl.read_csv(\"https://j.mp/iriscsv\", columns=[\"sepal_length\", \"species\"])"
   ]
  },
  {
   "cell_type": "markdown",
   "id": "5a53978e",
   "metadata": {},
   "source": [
    "### 🔹 例題13：`concat`による結合\n",
    "\n"
   ]
  },
  {
   "cell_type": "code",
   "execution_count": null,
   "id": "ab61d947",
   "metadata": {},
   "outputs": [],
   "source": [
    "df1 = pl.DataFrame({\"A\": [1, 2], \"B\": [3, 4]})\n",
    "df2 = pl.DataFrame({\"A\": [5, 6], \"B\": [7, 8]})\n",
    "\n",
    "# 縦方向\n",
    "pl.concat([df1, df2], how=\"vertical\")\n",
    "\n",
    "# 横方向\n",
    "pl.concat([df1, df2], how=\"horizontal\")"
   ]
  },
  {
   "cell_type": "markdown",
   "id": "3825e8dd",
   "metadata": {},
   "source": [
    "### 🔹 例題14：重複の削除\n",
    "\n",
    "**対応**\n",
    "Pandas: `df.drop_duplicates()`\n",
    "dplyr: `distinct(df)` / `distinct(df, species, .keep_all = TRUE)`"
   ]
  },
  {
   "cell_type": "code",
   "execution_count": null,
   "id": "a28b3f2b",
   "metadata": {},
   "outputs": [],
   "source": [
    "# 完全一致の重複を削除\n",
    "df.unique()\n",
    "\n",
    "# 特定の列（species）で重複削除\n",
    "df.unique(subset=[\"species\"])"
   ]
  },
  {
   "cell_type": "markdown",
   "id": "9ec04529",
   "metadata": {},
   "source": [
    "### 🔹 例題15：複数の処理をまとめて実行\n",
    "\n",
    "Polarsは**メソッドチェーン**で複数処理を直感的に書けるのが強み。"
   ]
  },
  {
   "cell_type": "code",
   "execution_count": null,
   "id": "ab7e7b5a",
   "metadata": {},
   "outputs": [],
   "source": [
    "df = pl.read_csv(\"https://j.mp/iriscsv\")\n",
    "\n",
    "df_agg = (\n",
    "    df\n",
    "    .select([pl.col(\"^petal_.*$\"), pl.col(\"species\")])\n",
    "    .with_columns((pl.col(\"petal_length\") * 1.5).alias(\"scaled_petal_length\"))\n",
    "    .filter(pl.col(\"petal_width\") > 1.0)\n",
    "    .group_by(\"species\")\n",
    "    .agg(pl.all().median())\n",
    ")"
   ]
  },
  {
   "cell_type": "markdown",
   "id": "0e110de9",
   "metadata": {},
   "source": [
    "## ✏️ おわりに\n",
    "\n",
    "Polarsは、高速・安全・柔軟なデータ処理ができるPythonライブラリです。このノートでは、Irisデータセットを通じて、**実務でよく使う処理を例題形式で習得**できるよう構成しました。\n",
    "\n",
    "今後の応用：\n",
    "- 欠損値処理\n",
    "- ウィンドウ関数\n",
    "- ジョイン・結合\n",
    "- 時系列処理\n",
    "\n",
    "などもPolarsで非常に簡潔に記述できます。"
   ]
  }
 ],
 "metadata": {},
 "nbformat": 4,
 "nbformat_minor": 5
}
